{
  "nbformat": 4,
  "nbformat_minor": 0,
  "metadata": {
    "colab": {
      "provenance": [],
      "collapsed_sections": []
    },
    "kernelspec": {
      "name": "python3",
      "display_name": "Python 3"
    },
    "language_info": {
      "name": "python"
    }
  },
  "cells": [
    {
      "cell_type": "code",
      "execution_count": null,
      "metadata": {
        "id": "65916154"
      },
      "outputs": [],
      "source": [
        "!apt-get install openjdk-8-jdk-headless -qq > /dev/null\n",
        "!wget -q https://archive.apache.org/dist/spark/spark-3.0.0/spark-3.0.0-bin-hadoop3.2.tgz\n",
        "!tar xf spark-3.0.0-bin-hadoop3.2.tgz"
      ]
    },
    {
      "cell_type": "code",
      "source": [
        "!pip install pyspark"
      ],
      "metadata": {
        "colab": {
          "base_uri": "https://localhost:8080/"
        },
        "id": "7G5062hDLwYc",
        "outputId": "fce14172-88a3-4766-b62f-9e58962ac691"
      },
      "execution_count": null,
      "outputs": [
        {
          "output_type": "stream",
          "name": "stdout",
          "text": [
            "Looking in indexes: https://pypi.org/simple, https://us-python.pkg.dev/colab-wheels/public/simple/\n",
            "Collecting pyspark\n",
            "  Downloading pyspark-3.3.1.tar.gz (281.4 MB)\n",
            "\u001b[K     |████████████████████████████████| 281.4 MB 44 kB/s \n",
            "\u001b[?25hCollecting py4j==0.10.9.5\n",
            "  Downloading py4j-0.10.9.5-py2.py3-none-any.whl (199 kB)\n",
            "\u001b[K     |████████████████████████████████| 199 kB 51.1 MB/s \n",
            "\u001b[?25hBuilding wheels for collected packages: pyspark\n",
            "  Building wheel for pyspark (setup.py) ... \u001b[?25l\u001b[?25hdone\n",
            "  Created wheel for pyspark: filename=pyspark-3.3.1-py2.py3-none-any.whl size=281845513 sha256=b8f9ef14195d07889e33f4788901488da1cd7bc2673e607d7fec2b5e201002c2\n",
            "  Stored in directory: /root/.cache/pip/wheels/42/59/f5/79a5bf931714dcd201b26025347785f087370a10a3329a899c\n",
            "Successfully built pyspark\n",
            "Installing collected packages: py4j, pyspark\n",
            "Successfully installed py4j-0.10.9.5 pyspark-3.3.1\n"
          ]
        }
      ]
    },
    {
      "cell_type": "code",
      "source": [
        "from pyspark.sql import SparkSession\n",
        "spark = SparkSession.builder \\\n",
        "                    .master(\"local\") \\\n",
        "                    .appName(\"Colab\")\\\n",
        "                    .config('spark.ui.port', '4050')\\\n",
        "                    .config('spark.driver.bindAddress', '127.0.0.1')\\\n",
        "                    .getOrCreate()\n",
        "spark"
      ],
      "metadata": {
        "id": "puuPXhngLMoW",
        "colab": {
          "base_uri": "https://localhost:8080/",
          "height": 219
        },
        "outputId": "febfba18-d71a-493d-c7ae-cb87ed3a5981"
      },
      "execution_count": null,
      "outputs": [
        {
          "output_type": "execute_result",
          "data": {
            "text/plain": [
              "<pyspark.sql.session.SparkSession at 0x7f3d61f55550>"
            ],
            "text/html": [
              "\n",
              "            <div>\n",
              "                <p><b>SparkSession - in-memory</b></p>\n",
              "                \n",
              "        <div>\n",
              "            <p><b>SparkContext</b></p>\n",
              "\n",
              "            <p><a href=\"http://b7b02c86bb17:4050\">Spark UI</a></p>\n",
              "\n",
              "            <dl>\n",
              "              <dt>Version</dt>\n",
              "                <dd><code>v3.3.1</code></dd>\n",
              "              <dt>Master</dt>\n",
              "                <dd><code>local</code></dd>\n",
              "              <dt>AppName</dt>\n",
              "                <dd><code>Colab</code></dd>\n",
              "            </dl>\n",
              "        </div>\n",
              "        \n",
              "            </div>\n",
              "        "
            ]
          },
          "metadata": {},
          "execution_count": 3
        }
      ]
    },
    {
      "cell_type": "code",
      "source": [
        "#1 Membuat RDD\n",
        "columns = [\"\", \"\"]\n",
        "data = [1,2,3,4, 3,6, 4,5]\n",
        "sc = spark.sparkContext\n",
        "rdd = sc.parallelize(data)"
      ],
      "metadata": {
        "id": "yWg7evgRLNcr"
      },
      "execution_count": null,
      "outputs": []
    },
    {
      "cell_type": "code",
      "source": [
        "#2 output manipulate RDD\n",
        "rdd_1 = rdd.filter(lambda x : x%2==0)\n",
        "rdd_2 = rdd.filter(lambda x : x%3==0)\n",
        "print(rdd_1.union(rdd_2).collect())"
      ],
      "metadata": {
        "colab": {
          "base_uri": "https://localhost:8080/"
        },
        "id": "NHJkxSCVODec",
        "outputId": "0b3b0127-d371-4b8f-fea9-4329f245d279"
      },
      "execution_count": null,
      "outputs": [
        {
          "output_type": "stream",
          "name": "stdout",
          "text": [
            "[2, 4, 6, 4, 3, 3, 6]\n"
          ]
        }
      ]
    },
    {
      "cell_type": "code",
      "source": [
        "marks_rdd = sc.parallelize([(1,2),(3,4),(3,6),(4,5)])\n",
        "dict_rdd = marks_rdd.countByKey().items()\n",
        "for key, value in dict_rdd:\n",
        "  print((\"key\"), key,(\"has\"), value, (\"counts\"))"
      ],
      "metadata": {
        "colab": {
          "base_uri": "https://localhost:8080/"
        },
        "id": "jVDZDhKQSZXy",
        "outputId": "3320ad92-12e7-40bb-ecd6-92ea8da45b21"
      },
      "execution_count": null,
      "outputs": [
        {
          "output_type": "stream",
          "name": "stdout",
          "text": [
            "key 1 has 1 counts\n",
            "key 3 has 2 counts\n",
            "key 4 has 1 counts\n"
          ]
        }
      ]
    },
    {
      "cell_type": "code",
      "source": [
        "marks_rdd = sc.parallelize([(1,2),(3,4),(3,6),(4,5)])\n",
        "dict_rdd = marks_rdd.reduceByKey(lambda x,y: x + y).collect()\n",
        "for key, value in dict_rdd:\n",
        "  print((\"key\"), key,(\"has\"), value, (\"counts\"))"
      ],
      "metadata": {
        "colab": {
          "base_uri": "https://localhost:8080/"
        },
        "id": "aSPY0MlCOfMk",
        "outputId": "6d1b15b6-b75a-420e-ba3d-5a852a391eab"
      },
      "execution_count": null,
      "outputs": [
        {
          "output_type": "stream",
          "name": "stdout",
          "text": [
            "key 1 has 2 counts\n",
            "key 3 has 10 counts\n",
            "key 4 has 5 counts\n"
          ]
        }
      ]
    },
    {
      "cell_type": "code",
      "source": [
        "rdd = sc.parallelize([(1,2),(3,4),(3,6),(4,5),(3,1),(3,1)])\n",
        "rdd_reduced = rdd.reduceByKey(lambda x, y: x+y)\n",
        "\n",
        "for num in rdd_reduced.collect():\n",
        "  print(f\"Key {num[0]} has {num[1]}\")\n"
      ],
      "metadata": {
        "colab": {
          "base_uri": "https://localhost:8080/"
        },
        "id": "ywZjDpCtN0dD",
        "outputId": "b25510f6-313e-4dd3-b5a5-9f8f6a5fafdc"
      },
      "execution_count": null,
      "outputs": [
        {
          "output_type": "stream",
          "name": "stdout",
          "text": [
            "Key 1 has 2\n",
            "Key 3 has 12\n",
            "Key 4 has 5\n"
          ]
        }
      ]
    },
    {
      "cell_type": "code",
      "source": [
        "rdd.collect()"
      ],
      "metadata": {
        "colab": {
          "base_uri": "https://localhost:8080/"
        },
        "id": "EFuNHOsyOm8T",
        "outputId": "b3b6906f-9367-40d9-f7fd-dd56f8c3110e"
      },
      "execution_count": null,
      "outputs": [
        {
          "output_type": "execute_result",
          "data": {
            "text/plain": [
              "[(1, 2), (3, 4), (3, 6), (4, 5), (3, 1), (3, 1)]"
            ]
          },
          "metadata": {},
          "execution_count": 9
        }
      ]
    },
    {
      "cell_type": "code",
      "source": [
        "rdd.distinct().collect()"
      ],
      "metadata": {
        "colab": {
          "base_uri": "https://localhost:8080/"
        },
        "id": "CaBS6rVQOo9K",
        "outputId": "473cab7a-ff66-475a-f2cc-831903172dcc"
      },
      "execution_count": null,
      "outputs": [
        {
          "output_type": "execute_result",
          "data": {
            "text/plain": [
              "[(1, 2), (3, 4), (3, 6), (4, 5), (3, 1)]"
            ]
          },
          "metadata": {},
          "execution_count": 10
        }
      ]
    },
    {
      "cell_type": "code",
      "source": [
        "rdd_reduced.collect()"
      ],
      "metadata": {
        "id": "ikCgS3huPXUj",
        "colab": {
          "base_uri": "https://localhost:8080/"
        },
        "outputId": "664f7069-5f7a-421a-c6b0-8cc71b669e8c"
      },
      "execution_count": null,
      "outputs": [
        {
          "output_type": "execute_result",
          "data": {
            "text/plain": [
              "[(1, 2), (3, 12), (4, 5)]"
            ]
          },
          "metadata": {},
          "execution_count": 11
        }
      ]
    },
    {
      "cell_type": "code",
      "source": [
        "rdd_reduced.distinct().collect()"
      ],
      "metadata": {
        "colab": {
          "base_uri": "https://localhost:8080/"
        },
        "id": "x8nXCkG9Qehy",
        "outputId": "90ae3502-b692-49f8-c640-0e37ee183b2d"
      },
      "execution_count": null,
      "outputs": [
        {
          "output_type": "execute_result",
          "data": {
            "text/plain": [
              "[(1, 2), (3, 12), (4, 5)]"
            ]
          },
          "metadata": {},
          "execution_count": 12
        }
      ]
    },
    {
      "cell_type": "code",
      "source": [
        "x = sc.parallelize([(\"a\",1), (\"b\", 4), (\"a\", 2), (\"c\", 2), (\"d\", 1)])\n",
        "y = sc.parallelize([(\"a\", 2), (\"c\", 2)])\n",
        "sorted(x.subtractByKey(y).collect())"
      ],
      "metadata": {
        "colab": {
          "base_uri": "https://localhost:8080/"
        },
        "id": "lI-bdJpCR1aw",
        "outputId": "744004fe-71f9-4311-e3ec-0b190f843f7c"
      },
      "execution_count": null,
      "outputs": [
        {
          "output_type": "execute_result",
          "data": {
            "text/plain": [
              "[('b', 4), ('d', 1)]"
            ]
          },
          "metadata": {},
          "execution_count": 13
        }
      ]
    },
    {
      "cell_type": "code",
      "source": [
        "x.subtract(y).collect()"
      ],
      "metadata": {
        "colab": {
          "base_uri": "https://localhost:8080/"
        },
        "id": "uwNRRRu-TRYA",
        "outputId": "2d1f6481-4cc3-40ac-8420-2d4ca117d5a4"
      },
      "execution_count": null,
      "outputs": [
        {
          "output_type": "execute_result",
          "data": {
            "text/plain": [
              "[('a', 1), ('b', 4), ('d', 1)]"
            ]
          },
          "metadata": {},
          "execution_count": 14
        }
      ]
    },
    {
      "cell_type": "code",
      "source": [
        "file_path = '/complete/complete_shakespeare.txt'\n"
      ],
      "metadata": {
        "id": "7o6p9yozV5Pb"
      },
      "execution_count": null,
      "outputs": []
    },
    {
      "cell_type": "code",
      "source": [
        "pip install --user -U nltk"
      ],
      "metadata": {
        "colab": {
          "base_uri": "https://localhost:8080/"
        },
        "id": "-dzDbiEmXF5x",
        "outputId": "17925bad-3c0c-45f3-a78f-236322640a0c"
      },
      "execution_count": null,
      "outputs": [
        {
          "output_type": "stream",
          "name": "stdout",
          "text": [
            "Looking in indexes: https://pypi.org/simple, https://us-python.pkg.dev/colab-wheels/public/simple/\n",
            "Requirement already satisfied: nltk in /usr/local/lib/python3.7/dist-packages (3.7)\n",
            "Requirement already satisfied: joblib in /usr/local/lib/python3.7/dist-packages (from nltk) (1.2.0)\n",
            "Requirement already satisfied: regex>=2021.8.3 in /usr/local/lib/python3.7/dist-packages (from nltk) (2022.6.2)\n",
            "Requirement already satisfied: click in /usr/local/lib/python3.7/dist-packages (from nltk) (7.1.2)\n",
            "Requirement already satisfied: tqdm in /usr/local/lib/python3.7/dist-packages (from nltk) (4.64.1)\n"
          ]
        }
      ]
    },
    {
      "cell_type": "code",
      "source": [
        "import nltk\n",
        "nltk.download('stopwords')\n",
        "from nltk.corpus import stopwords\n",
        "stop_words = stopwords.words('english')"
      ],
      "metadata": {
        "colab": {
          "base_uri": "https://localhost:8080/"
        },
        "id": "8Uv-fnhAXP63",
        "outputId": "97b166ce-66f2-4d63-80df-85127fd2b140"
      },
      "execution_count": null,
      "outputs": [
        {
          "output_type": "stream",
          "name": "stderr",
          "text": [
            "[nltk_data] Downloading package stopwords to /root/nltk_data...\n",
            "[nltk_data]   Unzipping corpora/stopwords.zip.\n"
          ]
        }
      ]
    },
    {
      "cell_type": "code",
      "source": [
        "splitRDD_no_stop = splitRDD.filter(lambda x: x.lower() not in stopwords)\n",
        "splitRDD_no_stop = splitRDD.filter(lambda w: (w,1))\n",
        "resultRDD = splitRDD_no_stop.reduceByKey(lambda x,y: x+y)"
      ],
      "metadata": {
        "id": "zhhE8gMhYpcc"
      },
      "execution_count": null,
      "outputs": []
    }
  ]
}